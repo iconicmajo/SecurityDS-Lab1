{
 "cells": [
  {
   "cell_type": "code",
   "execution_count": 37,
   "metadata": {},
   "outputs": [],
   "source": [
    "import pandas as pd\n",
    "import numpy as np\n",
    "#import caracteristicasDerivadas\n",
    "#from caracteristicasDerivadas import H_entropy, proporcionVocalesConsonantes, posicionPrimerDigito\n",
    "import  matplotlib.pyplot as plt\n",
    "import seaborn as sns\n",
    "import pandas_profiling as pp\n",
    "from pandas_profiling import ProfileReport\n",
    "\n",
    "import sklearn\n",
    "from sklearn import metrics, model_selection, tree"
   ]
  },
  {
   "cell_type": "code",
   "execution_count": 38,
   "metadata": {},
   "outputs": [],
   "source": [
    "def H_entropy (x):\n",
    "    # Entropia de Shannon\n",
    "    prob = [ float(x.count(c)) / len(x) for c in dict.fromkeys(list(x)) ] \n",
    "    H = - sum([ p * np.log2(p) for p in prob ]) \n",
    "    return H\n",
    "\n",
    "def posicionPrimerDigito( s ):\n",
    "    for i, c in enumerate(s):\n",
    "        if c.isdigit():\n",
    "            return i + 1\n",
    "    return 0\n",
    "\n",
    "def proporcionVocalesConsonantes (x):\n",
    "    x = x.lower()\n",
    "    patron_vocales = re.compile('([aeiou])')\n",
    "    patron_consonantes = re.compile('([b-df-hj-np-tv-z])')\n",
    "    vocales = re.findall(patron_vocales, x)\n",
    "    consonantes = re.findall(patron_consonantes, x)\n",
    "    try:\n",
    "        proporcion = len(vocales) / len(consonantes)\n",
    "    except: # Division por cero\n",
    "        proporcion = 0  \n",
    "    return proporcion"
   ]
  },
  {
   "cell_type": "markdown",
   "metadata": {},
   "source": [
    "## Exploración de datos"
   ]
  },
  {
   "cell_type": "markdown",
   "metadata": {},
   "source": [
    "#### Cargue el dataset en un dataframe de pandas, muestre un ejemplo de cinco observaciones. "
   ]
  },
  {
   "cell_type": "code",
   "execution_count": 39,
   "metadata": {},
   "outputs": [],
   "source": [
    "df = pd.read_csv(\"dataset_pishing.csv\")"
   ]
  },
  {
   "cell_type": "code",
   "execution_count": 40,
   "metadata": {},
   "outputs": [
    {
     "data": {
      "text/html": [
       "<div>\n",
       "<style scoped>\n",
       "    .dataframe tbody tr th:only-of-type {\n",
       "        vertical-align: middle;\n",
       "    }\n",
       "\n",
       "    .dataframe tbody tr th {\n",
       "        vertical-align: top;\n",
       "    }\n",
       "\n",
       "    .dataframe thead th {\n",
       "        text-align: right;\n",
       "    }\n",
       "</style>\n",
       "<table border=\"1\" class=\"dataframe\">\n",
       "  <thead>\n",
       "    <tr style=\"text-align: right;\">\n",
       "      <th></th>\n",
       "      <th>url</th>\n",
       "      <th>ip</th>\n",
       "      <th>nb_www</th>\n",
       "      <th>nb_com</th>\n",
       "      <th>nb_dslash</th>\n",
       "      <th>http_in_path</th>\n",
       "      <th>punycode</th>\n",
       "      <th>port</th>\n",
       "      <th>tld_in_path</th>\n",
       "      <th>tld_in_subdomain</th>\n",
       "      <th>...</th>\n",
       "      <th>domain_in_title</th>\n",
       "      <th>domain_with_copyright</th>\n",
       "      <th>whois_registered_domain</th>\n",
       "      <th>domain_registration_length</th>\n",
       "      <th>domain_age</th>\n",
       "      <th>web_traffic</th>\n",
       "      <th>dns_record</th>\n",
       "      <th>google_index</th>\n",
       "      <th>page_rank</th>\n",
       "      <th>status</th>\n",
       "    </tr>\n",
       "  </thead>\n",
       "  <tbody>\n",
       "    <tr>\n",
       "      <th>0</th>\n",
       "      <td>http://www.crestonwood.com/router.php</td>\n",
       "      <td>0</td>\n",
       "      <td>1</td>\n",
       "      <td>0</td>\n",
       "      <td>0</td>\n",
       "      <td>0</td>\n",
       "      <td>0</td>\n",
       "      <td>0</td>\n",
       "      <td>0</td>\n",
       "      <td>0</td>\n",
       "      <td>...</td>\n",
       "      <td>0</td>\n",
       "      <td>1</td>\n",
       "      <td>0</td>\n",
       "      <td>45</td>\n",
       "      <td>-1</td>\n",
       "      <td>0</td>\n",
       "      <td>1</td>\n",
       "      <td>1</td>\n",
       "      <td>4</td>\n",
       "      <td>legitimate</td>\n",
       "    </tr>\n",
       "    <tr>\n",
       "      <th>1</th>\n",
       "      <td>http://shadetreetechnology.com/V4/validation/a...</td>\n",
       "      <td>1</td>\n",
       "      <td>0</td>\n",
       "      <td>0</td>\n",
       "      <td>0</td>\n",
       "      <td>0</td>\n",
       "      <td>0</td>\n",
       "      <td>0</td>\n",
       "      <td>0</td>\n",
       "      <td>0</td>\n",
       "      <td>...</td>\n",
       "      <td>1</td>\n",
       "      <td>0</td>\n",
       "      <td>0</td>\n",
       "      <td>77</td>\n",
       "      <td>5767</td>\n",
       "      <td>0</td>\n",
       "      <td>0</td>\n",
       "      <td>1</td>\n",
       "      <td>2</td>\n",
       "      <td>phishing</td>\n",
       "    </tr>\n",
       "    <tr>\n",
       "      <th>2</th>\n",
       "      <td>https://support-appleld.com.secureupdate.duila...</td>\n",
       "      <td>1</td>\n",
       "      <td>0</td>\n",
       "      <td>1</td>\n",
       "      <td>0</td>\n",
       "      <td>0</td>\n",
       "      <td>0</td>\n",
       "      <td>0</td>\n",
       "      <td>0</td>\n",
       "      <td>1</td>\n",
       "      <td>...</td>\n",
       "      <td>1</td>\n",
       "      <td>0</td>\n",
       "      <td>0</td>\n",
       "      <td>14</td>\n",
       "      <td>4004</td>\n",
       "      <td>5828815</td>\n",
       "      <td>0</td>\n",
       "      <td>1</td>\n",
       "      <td>0</td>\n",
       "      <td>phishing</td>\n",
       "    </tr>\n",
       "    <tr>\n",
       "      <th>3</th>\n",
       "      <td>http://rgipt.ac.in</td>\n",
       "      <td>0</td>\n",
       "      <td>0</td>\n",
       "      <td>0</td>\n",
       "      <td>0</td>\n",
       "      <td>0</td>\n",
       "      <td>0</td>\n",
       "      <td>0</td>\n",
       "      <td>0</td>\n",
       "      <td>0</td>\n",
       "      <td>...</td>\n",
       "      <td>1</td>\n",
       "      <td>0</td>\n",
       "      <td>0</td>\n",
       "      <td>62</td>\n",
       "      <td>-1</td>\n",
       "      <td>107721</td>\n",
       "      <td>0</td>\n",
       "      <td>0</td>\n",
       "      <td>3</td>\n",
       "      <td>legitimate</td>\n",
       "    </tr>\n",
       "    <tr>\n",
       "      <th>4</th>\n",
       "      <td>http://www.iracing.com/tracks/gateway-motorspo...</td>\n",
       "      <td>0</td>\n",
       "      <td>1</td>\n",
       "      <td>0</td>\n",
       "      <td>0</td>\n",
       "      <td>0</td>\n",
       "      <td>0</td>\n",
       "      <td>0</td>\n",
       "      <td>0</td>\n",
       "      <td>0</td>\n",
       "      <td>...</td>\n",
       "      <td>0</td>\n",
       "      <td>1</td>\n",
       "      <td>0</td>\n",
       "      <td>224</td>\n",
       "      <td>8175</td>\n",
       "      <td>8725</td>\n",
       "      <td>0</td>\n",
       "      <td>0</td>\n",
       "      <td>6</td>\n",
       "      <td>legitimate</td>\n",
       "    </tr>\n",
       "  </tbody>\n",
       "</table>\n",
       "<p>5 rows × 67 columns</p>\n",
       "</div>"
      ],
      "text/plain": [
       "                                                 url  ip  nb_www  nb_com  \\\n",
       "0              http://www.crestonwood.com/router.php   0       1       0   \n",
       "1  http://shadetreetechnology.com/V4/validation/a...   1       0       0   \n",
       "2  https://support-appleld.com.secureupdate.duila...   1       0       1   \n",
       "3                                 http://rgipt.ac.in   0       0       0   \n",
       "4  http://www.iracing.com/tracks/gateway-motorspo...   0       1       0   \n",
       "\n",
       "   nb_dslash  http_in_path  punycode  port  tld_in_path  tld_in_subdomain  \\\n",
       "0          0             0         0     0            0                 0   \n",
       "1          0             0         0     0            0                 0   \n",
       "2          0             0         0     0            0                 1   \n",
       "3          0             0         0     0            0                 0   \n",
       "4          0             0         0     0            0                 0   \n",
       "\n",
       "   ...  domain_in_title  domain_with_copyright  whois_registered_domain  \\\n",
       "0  ...                0                      1                        0   \n",
       "1  ...                1                      0                        0   \n",
       "2  ...                1                      0                        0   \n",
       "3  ...                1                      0                        0   \n",
       "4  ...                0                      1                        0   \n",
       "\n",
       "   domain_registration_length  domain_age  web_traffic  dns_record  \\\n",
       "0                          45          -1            0           1   \n",
       "1                          77        5767            0           0   \n",
       "2                          14        4004      5828815           0   \n",
       "3                          62          -1       107721           0   \n",
       "4                         224        8175         8725           0   \n",
       "\n",
       "   google_index  page_rank      status  \n",
       "0             1          4  legitimate  \n",
       "1             1          2    phishing  \n",
       "2             1          0    phishing  \n",
       "3             0          3  legitimate  \n",
       "4             0          6  legitimate  \n",
       "\n",
       "[5 rows x 67 columns]"
      ]
     },
     "execution_count": 40,
     "metadata": {},
     "output_type": "execute_result"
    }
   ],
   "source": [
    "df.head()"
   ]
  },
  {
   "cell_type": "code",
   "execution_count": 41,
   "metadata": {},
   "outputs": [
    {
     "name": "stdout",
     "output_type": "stream",
     "text": [
      "<class 'pandas.core.frame.DataFrame'>\n",
      "RangeIndex: 11430 entries, 0 to 11429\n",
      "Data columns (total 67 columns):\n",
      " #   Column                      Non-Null Count  Dtype  \n",
      "---  ------                      --------------  -----  \n",
      " 0   url                         11430 non-null  object \n",
      " 1   ip                          11430 non-null  int64  \n",
      " 2   nb_www                      11430 non-null  int64  \n",
      " 3   nb_com                      11430 non-null  int64  \n",
      " 4   nb_dslash                   11430 non-null  int64  \n",
      " 5   http_in_path                11430 non-null  int64  \n",
      " 6   punycode                    11430 non-null  int64  \n",
      " 7   port                        11430 non-null  int64  \n",
      " 8   tld_in_path                 11430 non-null  int64  \n",
      " 9   tld_in_subdomain            11430 non-null  int64  \n",
      " 10  abnormal_subdomain          11430 non-null  int64  \n",
      " 11  nb_subdomains               11430 non-null  int64  \n",
      " 12  prefix_suffix               11430 non-null  int64  \n",
      " 13  random_domain               11430 non-null  int64  \n",
      " 14  shortening_service          11430 non-null  int64  \n",
      " 15  path_extension              11430 non-null  int64  \n",
      " 16  nb_redirection              11430 non-null  int64  \n",
      " 17  nb_external_redirection     11430 non-null  int64  \n",
      " 18  length_words_raw            11430 non-null  int64  \n",
      " 19  char_repeat                 11430 non-null  int64  \n",
      " 20  shortest_words_raw          11430 non-null  int64  \n",
      " 21  shortest_word_host          11430 non-null  int64  \n",
      " 22  shortest_word_path          11430 non-null  int64  \n",
      " 23  longest_words_raw           11430 non-null  int64  \n",
      " 24  longest_word_host           11430 non-null  int64  \n",
      " 25  longest_word_path           11430 non-null  int64  \n",
      " 26  avg_words_raw               11430 non-null  float64\n",
      " 27  avg_word_host               11430 non-null  float64\n",
      " 28  avg_word_path               11430 non-null  float64\n",
      " 29  phish_hints                 11430 non-null  int64  \n",
      " 30  domain_in_brand             11430 non-null  int64  \n",
      " 31  brand_in_subdomain          11430 non-null  int64  \n",
      " 32  brand_in_path               11430 non-null  int64  \n",
      " 33  suspecious_tld              11430 non-null  int64  \n",
      " 34  statistical_report          11430 non-null  int64  \n",
      " 35  nb_hyperlinks               11430 non-null  int64  \n",
      " 36  ratio_intHyperlinks         11430 non-null  float64\n",
      " 37  ratio_extHyperlinks         11430 non-null  float64\n",
      " 38  ratio_nullHyperlinks        11430 non-null  int64  \n",
      " 39  nb_extCSS                   11430 non-null  int64  \n",
      " 40  ratio_intRedirection        11430 non-null  int64  \n",
      " 41  ratio_extRedirection        11430 non-null  float64\n",
      " 42  ratio_intErrors             11430 non-null  int64  \n",
      " 43  ratio_extErrors             11430 non-null  float64\n",
      " 44  login_form                  11430 non-null  int64  \n",
      " 45  external_favicon            11430 non-null  int64  \n",
      " 46  links_in_tags               11430 non-null  float64\n",
      " 47  submit_email                11430 non-null  int64  \n",
      " 48  ratio_intMedia              11430 non-null  float64\n",
      " 49  ratio_extMedia              11430 non-null  float64\n",
      " 50  sfh                         11430 non-null  int64  \n",
      " 51  iframe                      11430 non-null  int64  \n",
      " 52  popup_window                11430 non-null  int64  \n",
      " 53  safe_anchor                 11430 non-null  float64\n",
      " 54  onmouseover                 11430 non-null  int64  \n",
      " 55  right_clic                  11430 non-null  int64  \n",
      " 56  empty_title                 11430 non-null  int64  \n",
      " 57  domain_in_title             11430 non-null  int64  \n",
      " 58  domain_with_copyright       11430 non-null  int64  \n",
      " 59  whois_registered_domain     11430 non-null  int64  \n",
      " 60  domain_registration_length  11430 non-null  int64  \n",
      " 61  domain_age                  11430 non-null  int64  \n",
      " 62  web_traffic                 11430 non-null  int64  \n",
      " 63  dns_record                  11430 non-null  int64  \n",
      " 64  google_index                11430 non-null  int64  \n",
      " 65  page_rank                   11430 non-null  int64  \n",
      " 66  status                      11430 non-null  object \n",
      "dtypes: float64(11), int64(54), object(2)\n",
      "memory usage: 5.8+ MB\n"
     ]
    }
   ],
   "source": [
    "df.info()"
   ]
  },
  {
   "cell_type": "markdown",
   "metadata": {},
   "source": [
    "#### Muestre la cantidad de observaciones etiquetadas en la columna status como “legit” y como “pishing”. ¿Está balanceado el dataset? "
   ]
  },
  {
   "cell_type": "code",
   "execution_count": 42,
   "metadata": {},
   "outputs": [
    {
     "data": {
      "text/plain": [
       "legitimate    5715\n",
       "phishing      5715\n",
       "Name: status, dtype: int64"
      ]
     },
     "execution_count": 42,
     "metadata": {},
     "output_type": "execute_result"
    }
   ],
   "source": [
    "df['status'].value_counts()"
   ]
  },
  {
   "cell_type": "markdown",
   "metadata": {},
   "source": [
    "Como se puede observar, sí se encuentra balanceado el dataset entre legit y phishing, dado que al contar sus valores se mantienen mitad/mitad"
   ]
  },
  {
   "cell_type": "markdown",
   "metadata": {},
   "source": [
    "## Derivación de características "
   ]
  },
  {
   "cell_type": "code",
   "execution_count": 43,
   "metadata": {},
   "outputs": [],
   "source": [
    "df['f1']=df.apply(lambda row: len(row['url']), axis=1)\n",
    "df['f2']=df.apply(lambda row: len(row['url'].split(\"//\")[-1].split(\"/\")[0].split('?')[0]), axis=1)\n",
    "chars = ['.', '-', '@', '?', '&', '|', '=', '_', '~', '%', '/', '*', ':', ',', ';', '$', ' ']\n",
    "for i in range(len(chars)):\n",
    "    df[f'f{i+4}']=df.apply(lambda row: row['url'].count(chars[i]), axis=1)\n",
    "df['f25']=df.apply(lambda row: 1 if row['url'].split(':')[0] == 'https' else 0, axis=1)\n",
    "df['f26']=df.apply(lambda row: sum(c.isdigit() for c in row['url']), axis=1)\n",
    "df['f27']=df.apply(lambda row: sum(c.isdigit() for c in row['url'].split(\"//\")[-1].split(\"/\")[0].split('?')[0]), axis=1)"
   ]
  },
  {
   "cell_type": "code",
   "execution_count": 44,
   "metadata": {},
   "outputs": [
    {
     "name": "stdout",
     "output_type": "stream",
     "text": [
      "<class 'pandas.core.frame.DataFrame'>\n",
      "RangeIndex: 11430 entries, 0 to 11429\n",
      "Data columns (total 89 columns):\n",
      " #   Column                      Non-Null Count  Dtype  \n",
      "---  ------                      --------------  -----  \n",
      " 0   url                         11430 non-null  object \n",
      " 1   ip                          11430 non-null  int64  \n",
      " 2   nb_www                      11430 non-null  int64  \n",
      " 3   nb_com                      11430 non-null  int64  \n",
      " 4   nb_dslash                   11430 non-null  int64  \n",
      " 5   http_in_path                11430 non-null  int64  \n",
      " 6   punycode                    11430 non-null  int64  \n",
      " 7   port                        11430 non-null  int64  \n",
      " 8   tld_in_path                 11430 non-null  int64  \n",
      " 9   tld_in_subdomain            11430 non-null  int64  \n",
      " 10  abnormal_subdomain          11430 non-null  int64  \n",
      " 11  nb_subdomains               11430 non-null  int64  \n",
      " 12  prefix_suffix               11430 non-null  int64  \n",
      " 13  random_domain               11430 non-null  int64  \n",
      " 14  shortening_service          11430 non-null  int64  \n",
      " 15  path_extension              11430 non-null  int64  \n",
      " 16  nb_redirection              11430 non-null  int64  \n",
      " 17  nb_external_redirection     11430 non-null  int64  \n",
      " 18  length_words_raw            11430 non-null  int64  \n",
      " 19  char_repeat                 11430 non-null  int64  \n",
      " 20  shortest_words_raw          11430 non-null  int64  \n",
      " 21  shortest_word_host          11430 non-null  int64  \n",
      " 22  shortest_word_path          11430 non-null  int64  \n",
      " 23  longest_words_raw           11430 non-null  int64  \n",
      " 24  longest_word_host           11430 non-null  int64  \n",
      " 25  longest_word_path           11430 non-null  int64  \n",
      " 26  avg_words_raw               11430 non-null  float64\n",
      " 27  avg_word_host               11430 non-null  float64\n",
      " 28  avg_word_path               11430 non-null  float64\n",
      " 29  phish_hints                 11430 non-null  int64  \n",
      " 30  domain_in_brand             11430 non-null  int64  \n",
      " 31  brand_in_subdomain          11430 non-null  int64  \n",
      " 32  brand_in_path               11430 non-null  int64  \n",
      " 33  suspecious_tld              11430 non-null  int64  \n",
      " 34  statistical_report          11430 non-null  int64  \n",
      " 35  nb_hyperlinks               11430 non-null  int64  \n",
      " 36  ratio_intHyperlinks         11430 non-null  float64\n",
      " 37  ratio_extHyperlinks         11430 non-null  float64\n",
      " 38  ratio_nullHyperlinks        11430 non-null  int64  \n",
      " 39  nb_extCSS                   11430 non-null  int64  \n",
      " 40  ratio_intRedirection        11430 non-null  int64  \n",
      " 41  ratio_extRedirection        11430 non-null  float64\n",
      " 42  ratio_intErrors             11430 non-null  int64  \n",
      " 43  ratio_extErrors             11430 non-null  float64\n",
      " 44  login_form                  11430 non-null  int64  \n",
      " 45  external_favicon            11430 non-null  int64  \n",
      " 46  links_in_tags               11430 non-null  float64\n",
      " 47  submit_email                11430 non-null  int64  \n",
      " 48  ratio_intMedia              11430 non-null  float64\n",
      " 49  ratio_extMedia              11430 non-null  float64\n",
      " 50  sfh                         11430 non-null  int64  \n",
      " 51  iframe                      11430 non-null  int64  \n",
      " 52  popup_window                11430 non-null  int64  \n",
      " 53  safe_anchor                 11430 non-null  float64\n",
      " 54  onmouseover                 11430 non-null  int64  \n",
      " 55  right_clic                  11430 non-null  int64  \n",
      " 56  empty_title                 11430 non-null  int64  \n",
      " 57  domain_in_title             11430 non-null  int64  \n",
      " 58  domain_with_copyright       11430 non-null  int64  \n",
      " 59  whois_registered_domain     11430 non-null  int64  \n",
      " 60  domain_registration_length  11430 non-null  int64  \n",
      " 61  domain_age                  11430 non-null  int64  \n",
      " 62  web_traffic                 11430 non-null  int64  \n",
      " 63  dns_record                  11430 non-null  int64  \n",
      " 64  google_index                11430 non-null  int64  \n",
      " 65  page_rank                   11430 non-null  int64  \n",
      " 66  status                      11430 non-null  object \n",
      " 67  f1                          11430 non-null  int64  \n",
      " 68  f2                          11430 non-null  int64  \n",
      " 69  f4                          11430 non-null  int64  \n",
      " 70  f5                          11430 non-null  int64  \n",
      " 71  f6                          11430 non-null  int64  \n",
      " 72  f7                          11430 non-null  int64  \n",
      " 73  f8                          11430 non-null  int64  \n",
      " 74  f9                          11430 non-null  int64  \n",
      " 75  f10                         11430 non-null  int64  \n",
      " 76  f11                         11430 non-null  int64  \n",
      " 77  f12                         11430 non-null  int64  \n",
      " 78  f13                         11430 non-null  int64  \n",
      " 79  f14                         11430 non-null  int64  \n",
      " 80  f15                         11430 non-null  int64  \n",
      " 81  f16                         11430 non-null  int64  \n",
      " 82  f17                         11430 non-null  int64  \n",
      " 83  f18                         11430 non-null  int64  \n",
      " 84  f19                         11430 non-null  int64  \n",
      " 85  f20                         11430 non-null  int64  \n",
      " 86  f25                         11430 non-null  int64  \n",
      " 87  f26                         11430 non-null  int64  \n",
      " 88  f27                         11430 non-null  int64  \n",
      "dtypes: float64(11), int64(76), object(2)\n",
      "memory usage: 7.8+ MB\n"
     ]
    }
   ],
   "source": [
    "df.info()"
   ]
  },
  {
   "cell_type": "code",
   "execution_count": 45,
   "metadata": {},
   "outputs": [
    {
     "data": {
      "text/html": [
       "<div>\n",
       "<style scoped>\n",
       "    .dataframe tbody tr th:only-of-type {\n",
       "        vertical-align: middle;\n",
       "    }\n",
       "\n",
       "    .dataframe tbody tr th {\n",
       "        vertical-align: top;\n",
       "    }\n",
       "\n",
       "    .dataframe thead th {\n",
       "        text-align: right;\n",
       "    }\n",
       "</style>\n",
       "<table border=\"1\" class=\"dataframe\">\n",
       "  <thead>\n",
       "    <tr style=\"text-align: right;\">\n",
       "      <th></th>\n",
       "      <th>url</th>\n",
       "      <th>ip</th>\n",
       "      <th>nb_www</th>\n",
       "      <th>nb_com</th>\n",
       "      <th>nb_dslash</th>\n",
       "      <th>http_in_path</th>\n",
       "      <th>punycode</th>\n",
       "      <th>port</th>\n",
       "      <th>tld_in_path</th>\n",
       "      <th>tld_in_subdomain</th>\n",
       "      <th>...</th>\n",
       "      <th>f14</th>\n",
       "      <th>f15</th>\n",
       "      <th>f16</th>\n",
       "      <th>f17</th>\n",
       "      <th>f18</th>\n",
       "      <th>f19</th>\n",
       "      <th>f20</th>\n",
       "      <th>f25</th>\n",
       "      <th>f26</th>\n",
       "      <th>f27</th>\n",
       "    </tr>\n",
       "  </thead>\n",
       "  <tbody>\n",
       "    <tr>\n",
       "      <th>0</th>\n",
       "      <td>http://www.crestonwood.com/router.php</td>\n",
       "      <td>0</td>\n",
       "      <td>1</td>\n",
       "      <td>0</td>\n",
       "      <td>0</td>\n",
       "      <td>0</td>\n",
       "      <td>0</td>\n",
       "      <td>0</td>\n",
       "      <td>0</td>\n",
       "      <td>0</td>\n",
       "      <td>...</td>\n",
       "      <td>3</td>\n",
       "      <td>0</td>\n",
       "      <td>1</td>\n",
       "      <td>0</td>\n",
       "      <td>0</td>\n",
       "      <td>0</td>\n",
       "      <td>0</td>\n",
       "      <td>0</td>\n",
       "      <td>0</td>\n",
       "      <td>0</td>\n",
       "    </tr>\n",
       "    <tr>\n",
       "      <th>1</th>\n",
       "      <td>http://shadetreetechnology.com/V4/validation/a...</td>\n",
       "      <td>1</td>\n",
       "      <td>0</td>\n",
       "      <td>0</td>\n",
       "      <td>0</td>\n",
       "      <td>0</td>\n",
       "      <td>0</td>\n",
       "      <td>0</td>\n",
       "      <td>0</td>\n",
       "      <td>0</td>\n",
       "      <td>...</td>\n",
       "      <td>5</td>\n",
       "      <td>0</td>\n",
       "      <td>1</td>\n",
       "      <td>0</td>\n",
       "      <td>0</td>\n",
       "      <td>0</td>\n",
       "      <td>0</td>\n",
       "      <td>0</td>\n",
       "      <td>17</td>\n",
       "      <td>0</td>\n",
       "    </tr>\n",
       "    <tr>\n",
       "      <th>2</th>\n",
       "      <td>https://support-appleld.com.secureupdate.duila...</td>\n",
       "      <td>1</td>\n",
       "      <td>0</td>\n",
       "      <td>1</td>\n",
       "      <td>0</td>\n",
       "      <td>0</td>\n",
       "      <td>0</td>\n",
       "      <td>0</td>\n",
       "      <td>0</td>\n",
       "      <td>1</td>\n",
       "      <td>...</td>\n",
       "      <td>5</td>\n",
       "      <td>0</td>\n",
       "      <td>1</td>\n",
       "      <td>0</td>\n",
       "      <td>0</td>\n",
       "      <td>0</td>\n",
       "      <td>0</td>\n",
       "      <td>1</td>\n",
       "      <td>19</td>\n",
       "      <td>0</td>\n",
       "    </tr>\n",
       "    <tr>\n",
       "      <th>3</th>\n",
       "      <td>http://rgipt.ac.in</td>\n",
       "      <td>0</td>\n",
       "      <td>0</td>\n",
       "      <td>0</td>\n",
       "      <td>0</td>\n",
       "      <td>0</td>\n",
       "      <td>0</td>\n",
       "      <td>0</td>\n",
       "      <td>0</td>\n",
       "      <td>0</td>\n",
       "      <td>...</td>\n",
       "      <td>2</td>\n",
       "      <td>0</td>\n",
       "      <td>1</td>\n",
       "      <td>0</td>\n",
       "      <td>0</td>\n",
       "      <td>0</td>\n",
       "      <td>0</td>\n",
       "      <td>0</td>\n",
       "      <td>0</td>\n",
       "      <td>0</td>\n",
       "    </tr>\n",
       "    <tr>\n",
       "      <th>4</th>\n",
       "      <td>http://www.iracing.com/tracks/gateway-motorspo...</td>\n",
       "      <td>0</td>\n",
       "      <td>1</td>\n",
       "      <td>0</td>\n",
       "      <td>0</td>\n",
       "      <td>0</td>\n",
       "      <td>0</td>\n",
       "      <td>0</td>\n",
       "      <td>0</td>\n",
       "      <td>0</td>\n",
       "      <td>...</td>\n",
       "      <td>5</td>\n",
       "      <td>0</td>\n",
       "      <td>1</td>\n",
       "      <td>0</td>\n",
       "      <td>0</td>\n",
       "      <td>0</td>\n",
       "      <td>0</td>\n",
       "      <td>0</td>\n",
       "      <td>0</td>\n",
       "      <td>0</td>\n",
       "    </tr>\n",
       "  </tbody>\n",
       "</table>\n",
       "<p>5 rows × 89 columns</p>\n",
       "</div>"
      ],
      "text/plain": [
       "                                                 url  ip  nb_www  nb_com  \\\n",
       "0              http://www.crestonwood.com/router.php   0       1       0   \n",
       "1  http://shadetreetechnology.com/V4/validation/a...   1       0       0   \n",
       "2  https://support-appleld.com.secureupdate.duila...   1       0       1   \n",
       "3                                 http://rgipt.ac.in   0       0       0   \n",
       "4  http://www.iracing.com/tracks/gateway-motorspo...   0       1       0   \n",
       "\n",
       "   nb_dslash  http_in_path  punycode  port  tld_in_path  tld_in_subdomain  \\\n",
       "0          0             0         0     0            0                 0   \n",
       "1          0             0         0     0            0                 0   \n",
       "2          0             0         0     0            0                 1   \n",
       "3          0             0         0     0            0                 0   \n",
       "4          0             0         0     0            0                 0   \n",
       "\n",
       "   ...  f14  f15  f16  f17  f18  f19  f20  f25  f26  f27  \n",
       "0  ...    3    0    1    0    0    0    0    0    0    0  \n",
       "1  ...    5    0    1    0    0    0    0    0   17    0  \n",
       "2  ...    5    0    1    0    0    0    0    1   19    0  \n",
       "3  ...    2    0    1    0    0    0    0    0    0    0  \n",
       "4  ...    5    0    1    0    0    0    0    0    0    0  \n",
       "\n",
       "[5 rows x 89 columns]"
      ]
     },
     "execution_count": 45,
     "metadata": {},
     "output_type": "execute_result"
    }
   ],
   "source": [
    "df.head()"
   ]
  },
  {
   "cell_type": "markdown",
   "metadata": {},
   "source": [
    "Se puede observar 5 observaciones del dataset al derivar las características, y se ve que se generaron nuevas columnas, de f1-f27, por lo cual fue efectivo el procesamiento."
   ]
  },
  {
   "cell_type": "markdown",
   "metadata": {},
   "source": [
    "## Preprocesamiento "
   ]
  },
  {
   "cell_type": "code",
   "execution_count": 46,
   "metadata": {},
   "outputs": [],
   "source": [
    "df['status'] = df.apply(lambda row: 0 if row['status'] == 'legitimate' else 1, axis=1)"
   ]
  },
  {
   "cell_type": "code",
   "execution_count": 47,
   "metadata": {},
   "outputs": [
    {
     "data": {
      "text/plain": [
       "0        0\n",
       "1        1\n",
       "2        1\n",
       "3        0\n",
       "4        0\n",
       "        ..\n",
       "11425    0\n",
       "11426    1\n",
       "11427    0\n",
       "11428    0\n",
       "11429    1\n",
       "Name: status, Length: 11430, dtype: int64"
      ]
     },
     "execution_count": 47,
     "metadata": {},
     "output_type": "execute_result"
    }
   ],
   "source": [
    "df['status']"
   ]
  },
  {
   "cell_type": "markdown",
   "metadata": {},
   "source": [
    "Como se puede ver se realizó el cambio de variable categórica a binaria de forma efectiva"
   ]
  },
  {
   "cell_type": "markdown",
   "metadata": {},
   "source": [
    "## Visualización de resultados "
   ]
  },
  {
   "cell_type": "code",
   "execution_count": 48,
   "metadata": {},
   "outputs": [
    {
     "data": {
      "application/vnd.jupyter.widget-view+json": {
       "model_id": "246d10d20d0c4f19b2ce9e4efe0ba023",
       "version_major": 2,
       "version_minor": 0
      },
      "text/plain": [
       "Summarize dataset:   0%|          | 0/102 [00:00<?, ?it/s]"
      ]
     },
     "metadata": {},
     "output_type": "display_data"
    },
    {
     "ename": "KeyboardInterrupt",
     "evalue": "",
     "output_type": "error",
     "traceback": [
      "\u001b[1;31m---------------------------------------------------------------------------\u001b[0m",
      "\u001b[1;31mKeyboardInterrupt\u001b[0m                         Traceback (most recent call last)",
      "\u001b[1;32m~\\AppData\\Local\\Temp/ipykernel_21172/1865522983.py\u001b[0m in \u001b[0;36m<module>\u001b[1;34m\u001b[0m\n\u001b[0;32m      1\u001b[0m \u001b[0mreport\u001b[0m \u001b[1;33m=\u001b[0m \u001b[0mProfileReport\u001b[0m\u001b[1;33m(\u001b[0m\u001b[0mdf\u001b[0m\u001b[1;33m,\u001b[0m \u001b[0mtitle\u001b[0m\u001b[1;33m=\u001b[0m\u001b[1;34m\"Detección de phishing\"\u001b[0m\u001b[1;33m,\u001b[0m \u001b[0mexplorative\u001b[0m\u001b[1;33m=\u001b[0m\u001b[1;32mTrue\u001b[0m\u001b[1;33m)\u001b[0m\u001b[1;33m\u001b[0m\u001b[1;33m\u001b[0m\u001b[0m\n\u001b[1;32m----> 2\u001b[1;33m \u001b[0mreport\u001b[0m\u001b[1;33m.\u001b[0m\u001b[0mto_file\u001b[0m\u001b[1;33m(\u001b[0m\u001b[1;34m\"reporte.html\"\u001b[0m\u001b[1;33m)\u001b[0m\u001b[1;33m\u001b[0m\u001b[1;33m\u001b[0m\u001b[0m\n\u001b[0m",
      "\u001b[1;32mc:\\users\\mcastro\\appdata\\local\\programs\\python\\python39\\lib\\site-packages\\pandas_profiling\\profile_report.py\u001b[0m in \u001b[0;36mto_file\u001b[1;34m(self, output_file, silent)\u001b[0m\n\u001b[0;32m    259\u001b[0m                 \u001b[0mcreate_html_assets\u001b[0m\u001b[1;33m(\u001b[0m\u001b[0mself\u001b[0m\u001b[1;33m.\u001b[0m\u001b[0mconfig\u001b[0m\u001b[1;33m,\u001b[0m \u001b[0moutput_file\u001b[0m\u001b[1;33m)\u001b[0m\u001b[1;33m\u001b[0m\u001b[1;33m\u001b[0m\u001b[0m\n\u001b[0;32m    260\u001b[0m \u001b[1;33m\u001b[0m\u001b[0m\n\u001b[1;32m--> 261\u001b[1;33m             \u001b[0mdata\u001b[0m \u001b[1;33m=\u001b[0m \u001b[0mself\u001b[0m\u001b[1;33m.\u001b[0m\u001b[0mto_html\u001b[0m\u001b[1;33m(\u001b[0m\u001b[1;33m)\u001b[0m\u001b[1;33m\u001b[0m\u001b[1;33m\u001b[0m\u001b[0m\n\u001b[0m\u001b[0;32m    262\u001b[0m \u001b[1;33m\u001b[0m\u001b[0m\n\u001b[0;32m    263\u001b[0m             \u001b[1;32mif\u001b[0m \u001b[0moutput_file\u001b[0m\u001b[1;33m.\u001b[0m\u001b[0msuffix\u001b[0m \u001b[1;33m!=\u001b[0m \u001b[1;34m\".html\"\u001b[0m\u001b[1;33m:\u001b[0m\u001b[1;33m\u001b[0m\u001b[1;33m\u001b[0m\u001b[0m\n",
      "\u001b[1;32mc:\\users\\mcastro\\appdata\\local\\programs\\python\\python39\\lib\\site-packages\\pandas_profiling\\profile_report.py\u001b[0m in \u001b[0;36mto_html\u001b[1;34m(self)\u001b[0m\n\u001b[0;32m    370\u001b[0m \u001b[1;33m\u001b[0m\u001b[0m\n\u001b[0;32m    371\u001b[0m         \"\"\"\n\u001b[1;32m--> 372\u001b[1;33m         \u001b[1;32mreturn\u001b[0m \u001b[0mself\u001b[0m\u001b[1;33m.\u001b[0m\u001b[0mhtml\u001b[0m\u001b[1;33m\u001b[0m\u001b[1;33m\u001b[0m\u001b[0m\n\u001b[0m\u001b[0;32m    373\u001b[0m \u001b[1;33m\u001b[0m\u001b[0m\n\u001b[0;32m    374\u001b[0m     \u001b[1;32mdef\u001b[0m \u001b[0mto_json\u001b[0m\u001b[1;33m(\u001b[0m\u001b[0mself\u001b[0m\u001b[1;33m)\u001b[0m \u001b[1;33m->\u001b[0m \u001b[0mstr\u001b[0m\u001b[1;33m:\u001b[0m\u001b[1;33m\u001b[0m\u001b[1;33m\u001b[0m\u001b[0m\n",
      "\u001b[1;32mc:\\users\\mcastro\\appdata\\local\\programs\\python\\python39\\lib\\site-packages\\pandas_profiling\\profile_report.py\u001b[0m in \u001b[0;36mhtml\u001b[1;34m(self)\u001b[0m\n\u001b[0;32m    187\u001b[0m     \u001b[1;32mdef\u001b[0m \u001b[0mhtml\u001b[0m\u001b[1;33m(\u001b[0m\u001b[0mself\u001b[0m\u001b[1;33m)\u001b[0m \u001b[1;33m->\u001b[0m \u001b[0mstr\u001b[0m\u001b[1;33m:\u001b[0m\u001b[1;33m\u001b[0m\u001b[1;33m\u001b[0m\u001b[0m\n\u001b[0;32m    188\u001b[0m         \u001b[1;32mif\u001b[0m \u001b[0mself\u001b[0m\u001b[1;33m.\u001b[0m\u001b[0m_html\u001b[0m \u001b[1;32mis\u001b[0m \u001b[1;32mNone\u001b[0m\u001b[1;33m:\u001b[0m\u001b[1;33m\u001b[0m\u001b[1;33m\u001b[0m\u001b[0m\n\u001b[1;32m--> 189\u001b[1;33m             \u001b[0mself\u001b[0m\u001b[1;33m.\u001b[0m\u001b[0m_html\u001b[0m \u001b[1;33m=\u001b[0m \u001b[0mself\u001b[0m\u001b[1;33m.\u001b[0m\u001b[0m_render_html\u001b[0m\u001b[1;33m(\u001b[0m\u001b[1;33m)\u001b[0m\u001b[1;33m\u001b[0m\u001b[1;33m\u001b[0m\u001b[0m\n\u001b[0m\u001b[0;32m    190\u001b[0m         \u001b[1;32mreturn\u001b[0m \u001b[0mself\u001b[0m\u001b[1;33m.\u001b[0m\u001b[0m_html\u001b[0m\u001b[1;33m\u001b[0m\u001b[1;33m\u001b[0m\u001b[0m\n\u001b[0;32m    191\u001b[0m \u001b[1;33m\u001b[0m\u001b[0m\n",
      "\u001b[1;32mc:\\users\\mcastro\\appdata\\local\\programs\\python\\python39\\lib\\site-packages\\pandas_profiling\\profile_report.py\u001b[0m in \u001b[0;36m_render_html\u001b[1;34m(self)\u001b[0m\n\u001b[0;32m    289\u001b[0m         \u001b[1;32mfrom\u001b[0m \u001b[0mpandas_profiling\u001b[0m\u001b[1;33m.\u001b[0m\u001b[0mreport\u001b[0m\u001b[1;33m.\u001b[0m\u001b[0mpresentation\u001b[0m\u001b[1;33m.\u001b[0m\u001b[0mflavours\u001b[0m \u001b[1;32mimport\u001b[0m \u001b[0mHTMLReport\u001b[0m\u001b[1;33m\u001b[0m\u001b[1;33m\u001b[0m\u001b[0m\n\u001b[0;32m    290\u001b[0m \u001b[1;33m\u001b[0m\u001b[0m\n\u001b[1;32m--> 291\u001b[1;33m         \u001b[0mreport\u001b[0m \u001b[1;33m=\u001b[0m \u001b[0mself\u001b[0m\u001b[1;33m.\u001b[0m\u001b[0mreport\u001b[0m\u001b[1;33m\u001b[0m\u001b[1;33m\u001b[0m\u001b[0m\n\u001b[0m\u001b[0;32m    292\u001b[0m \u001b[1;33m\u001b[0m\u001b[0m\n\u001b[0;32m    293\u001b[0m         with tqdm(\n",
      "\u001b[1;32mc:\\users\\mcastro\\appdata\\local\\programs\\python\\python39\\lib\\site-packages\\pandas_profiling\\profile_report.py\u001b[0m in \u001b[0;36mreport\u001b[1;34m(self)\u001b[0m\n\u001b[0;32m    181\u001b[0m     \u001b[1;32mdef\u001b[0m \u001b[0mreport\u001b[0m\u001b[1;33m(\u001b[0m\u001b[0mself\u001b[0m\u001b[1;33m)\u001b[0m \u001b[1;33m->\u001b[0m \u001b[0mRoot\u001b[0m\u001b[1;33m:\u001b[0m\u001b[1;33m\u001b[0m\u001b[1;33m\u001b[0m\u001b[0m\n\u001b[0;32m    182\u001b[0m         \u001b[1;32mif\u001b[0m \u001b[0mself\u001b[0m\u001b[1;33m.\u001b[0m\u001b[0m_report\u001b[0m \u001b[1;32mis\u001b[0m \u001b[1;32mNone\u001b[0m\u001b[1;33m:\u001b[0m\u001b[1;33m\u001b[0m\u001b[1;33m\u001b[0m\u001b[0m\n\u001b[1;32m--> 183\u001b[1;33m             \u001b[0mself\u001b[0m\u001b[1;33m.\u001b[0m\u001b[0m_report\u001b[0m \u001b[1;33m=\u001b[0m \u001b[0mget_report_structure\u001b[0m\u001b[1;33m(\u001b[0m\u001b[0mself\u001b[0m\u001b[1;33m.\u001b[0m\u001b[0mconfig\u001b[0m\u001b[1;33m,\u001b[0m \u001b[0mself\u001b[0m\u001b[1;33m.\u001b[0m\u001b[0mdescription_set\u001b[0m\u001b[1;33m)\u001b[0m\u001b[1;33m\u001b[0m\u001b[1;33m\u001b[0m\u001b[0m\n\u001b[0m\u001b[0;32m    184\u001b[0m         \u001b[1;32mreturn\u001b[0m \u001b[0mself\u001b[0m\u001b[1;33m.\u001b[0m\u001b[0m_report\u001b[0m\u001b[1;33m\u001b[0m\u001b[1;33m\u001b[0m\u001b[0m\n\u001b[0;32m    185\u001b[0m \u001b[1;33m\u001b[0m\u001b[0m\n",
      "\u001b[1;32mc:\\users\\mcastro\\appdata\\local\\programs\\python\\python39\\lib\\site-packages\\pandas_profiling\\profile_report.py\u001b[0m in \u001b[0;36mdescription_set\u001b[1;34m(self)\u001b[0m\n\u001b[0;32m    163\u001b[0m     \u001b[1;32mdef\u001b[0m \u001b[0mdescription_set\u001b[0m\u001b[1;33m(\u001b[0m\u001b[0mself\u001b[0m\u001b[1;33m)\u001b[0m \u001b[1;33m->\u001b[0m \u001b[0mDict\u001b[0m\u001b[1;33m[\u001b[0m\u001b[0mstr\u001b[0m\u001b[1;33m,\u001b[0m \u001b[0mAny\u001b[0m\u001b[1;33m]\u001b[0m\u001b[1;33m:\u001b[0m\u001b[1;33m\u001b[0m\u001b[1;33m\u001b[0m\u001b[0m\n\u001b[0;32m    164\u001b[0m         \u001b[1;32mif\u001b[0m \u001b[0mself\u001b[0m\u001b[1;33m.\u001b[0m\u001b[0m_description_set\u001b[0m \u001b[1;32mis\u001b[0m \u001b[1;32mNone\u001b[0m\u001b[1;33m:\u001b[0m\u001b[1;33m\u001b[0m\u001b[1;33m\u001b[0m\u001b[0m\n\u001b[1;32m--> 165\u001b[1;33m             self._description_set = describe_df(\n\u001b[0m\u001b[0;32m    166\u001b[0m                 \u001b[0mself\u001b[0m\u001b[1;33m.\u001b[0m\u001b[0mconfig\u001b[0m\u001b[1;33m,\u001b[0m\u001b[1;33m\u001b[0m\u001b[1;33m\u001b[0m\u001b[0m\n\u001b[0;32m    167\u001b[0m                 \u001b[0mself\u001b[0m\u001b[1;33m.\u001b[0m\u001b[0mdf\u001b[0m\u001b[1;33m,\u001b[0m\u001b[1;33m\u001b[0m\u001b[1;33m\u001b[0m\u001b[0m\n",
      "\u001b[1;32mc:\\users\\mcastro\\appdata\\local\\programs\\python\\python39\\lib\\site-packages\\pandas_profiling\\model\\describe.py\u001b[0m in \u001b[0;36mdescribe\u001b[1;34m(config, df, summarizer, typeset, sample)\u001b[0m\n\u001b[0;32m     97\u001b[0m         \u001b[1;32mfor\u001b[0m \u001b[0mcorrelation_name\u001b[0m \u001b[1;32min\u001b[0m \u001b[0mcorrelation_names\u001b[0m\u001b[1;33m:\u001b[0m\u001b[1;33m\u001b[0m\u001b[1;33m\u001b[0m\u001b[0m\n\u001b[0;32m     98\u001b[0m             \u001b[0mpbar\u001b[0m\u001b[1;33m.\u001b[0m\u001b[0mset_postfix_str\u001b[0m\u001b[1;33m(\u001b[0m\u001b[1;34mf\"Calculate {correlation_name} correlation\"\u001b[0m\u001b[1;33m)\u001b[0m\u001b[1;33m\u001b[0m\u001b[1;33m\u001b[0m\u001b[0m\n\u001b[1;32m---> 99\u001b[1;33m             correlations[correlation_name] = calculate_correlation(\n\u001b[0m\u001b[0;32m    100\u001b[0m                 \u001b[0mconfig\u001b[0m\u001b[1;33m,\u001b[0m \u001b[0mdf\u001b[0m\u001b[1;33m,\u001b[0m \u001b[0mcorrelation_name\u001b[0m\u001b[1;33m,\u001b[0m \u001b[0mseries_description\u001b[0m\u001b[1;33m\u001b[0m\u001b[1;33m\u001b[0m\u001b[0m\n\u001b[0;32m    101\u001b[0m             )\n",
      "\u001b[1;32mc:\\users\\mcastro\\appdata\\local\\programs\\python\\python39\\lib\\site-packages\\pandas_profiling\\model\\correlations.py\u001b[0m in \u001b[0;36mcalculate_correlation\u001b[1;34m(config, df, correlation_name, summary)\u001b[0m\n\u001b[0;32m    182\u001b[0m     \u001b[0mcorrelation\u001b[0m \u001b[1;33m=\u001b[0m \u001b[1;32mNone\u001b[0m\u001b[1;33m\u001b[0m\u001b[1;33m\u001b[0m\u001b[0m\n\u001b[0;32m    183\u001b[0m     \u001b[1;32mtry\u001b[0m\u001b[1;33m:\u001b[0m\u001b[1;33m\u001b[0m\u001b[1;33m\u001b[0m\u001b[0m\n\u001b[1;32m--> 184\u001b[1;33m         correlation = correlation_measures[correlation_name].compute(\n\u001b[0m\u001b[0;32m    185\u001b[0m             \u001b[0mconfig\u001b[0m\u001b[1;33m,\u001b[0m \u001b[0mdf\u001b[0m\u001b[1;33m,\u001b[0m \u001b[0msummary\u001b[0m\u001b[1;33m\u001b[0m\u001b[1;33m\u001b[0m\u001b[0m\n\u001b[0;32m    186\u001b[0m         )\n",
      "\u001b[1;32mc:\\users\\mcastro\\appdata\\local\\programs\\python\\python39\\lib\\site-packages\\pandas_profiling\\model\\correlations.py\u001b[0m in \u001b[0;36mcompute\u001b[1;34m(config, df, summary)\u001b[0m\n\u001b[0;32m     41\u001b[0m         \u001b[0mconfig\u001b[0m\u001b[1;33m:\u001b[0m \u001b[0mSettings\u001b[0m\u001b[1;33m,\u001b[0m \u001b[0mdf\u001b[0m\u001b[1;33m:\u001b[0m \u001b[0mpd\u001b[0m\u001b[1;33m.\u001b[0m\u001b[0mDataFrame\u001b[0m\u001b[1;33m,\u001b[0m \u001b[0msummary\u001b[0m\u001b[1;33m:\u001b[0m \u001b[0mdict\u001b[0m\u001b[1;33m\u001b[0m\u001b[1;33m\u001b[0m\u001b[0m\n\u001b[0;32m     42\u001b[0m     ) -> Optional[pd.DataFrame]:\n\u001b[1;32m---> 43\u001b[1;33m         \u001b[1;32mreturn\u001b[0m \u001b[0mdf\u001b[0m\u001b[1;33m.\u001b[0m\u001b[0mcorr\u001b[0m\u001b[1;33m(\u001b[0m\u001b[0mmethod\u001b[0m\u001b[1;33m=\u001b[0m\u001b[1;34m\"kendall\"\u001b[0m\u001b[1;33m)\u001b[0m\u001b[1;33m\u001b[0m\u001b[1;33m\u001b[0m\u001b[0m\n\u001b[0m\u001b[0;32m     44\u001b[0m \u001b[1;33m\u001b[0m\u001b[0m\n\u001b[0;32m     45\u001b[0m \u001b[1;33m\u001b[0m\u001b[0m\n",
      "\u001b[1;32mc:\\users\\mcastro\\appdata\\local\\programs\\python\\python39\\lib\\site-packages\\pandas\\core\\frame.py\u001b[0m in \u001b[0;36mcorr\u001b[1;34m(self, method, min_periods)\u001b[0m\n\u001b[0;32m   9376\u001b[0m             \u001b[0mcorrel\u001b[0m \u001b[1;33m=\u001b[0m \u001b[0mlibalgos\u001b[0m\u001b[1;33m.\u001b[0m\u001b[0mnancorr_spearman\u001b[0m\u001b[1;33m(\u001b[0m\u001b[0mmat\u001b[0m\u001b[1;33m,\u001b[0m \u001b[0mminp\u001b[0m\u001b[1;33m=\u001b[0m\u001b[0mmin_periods\u001b[0m\u001b[1;33m)\u001b[0m\u001b[1;33m\u001b[0m\u001b[1;33m\u001b[0m\u001b[0m\n\u001b[0;32m   9377\u001b[0m         \u001b[1;32melif\u001b[0m \u001b[0mmethod\u001b[0m \u001b[1;33m==\u001b[0m \u001b[1;34m\"kendall\"\u001b[0m\u001b[1;33m:\u001b[0m\u001b[1;33m\u001b[0m\u001b[1;33m\u001b[0m\u001b[0m\n\u001b[1;32m-> 9378\u001b[1;33m             \u001b[0mcorrel\u001b[0m \u001b[1;33m=\u001b[0m \u001b[0mlibalgos\u001b[0m\u001b[1;33m.\u001b[0m\u001b[0mnancorr_kendall\u001b[0m\u001b[1;33m(\u001b[0m\u001b[0mmat\u001b[0m\u001b[1;33m,\u001b[0m \u001b[0mminp\u001b[0m\u001b[1;33m=\u001b[0m\u001b[0mmin_periods\u001b[0m\u001b[1;33m)\u001b[0m\u001b[1;33m\u001b[0m\u001b[1;33m\u001b[0m\u001b[0m\n\u001b[0m\u001b[0;32m   9379\u001b[0m         \u001b[1;32melif\u001b[0m \u001b[0mcallable\u001b[0m\u001b[1;33m(\u001b[0m\u001b[0mmethod\u001b[0m\u001b[1;33m)\u001b[0m\u001b[1;33m:\u001b[0m\u001b[1;33m\u001b[0m\u001b[1;33m\u001b[0m\u001b[0m\n\u001b[0;32m   9380\u001b[0m             \u001b[1;32mif\u001b[0m \u001b[0mmin_periods\u001b[0m \u001b[1;32mis\u001b[0m \u001b[1;32mNone\u001b[0m\u001b[1;33m:\u001b[0m\u001b[1;33m\u001b[0m\u001b[1;33m\u001b[0m\u001b[0m\n",
      "\u001b[1;32mc:\\users\\mcastro\\appdata\\local\\programs\\python\\python39\\lib\\site-packages\\pandas\\_libs\\algos.pyx\u001b[0m in \u001b[0;36mpandas._libs.algos.nancorr_kendall\u001b[1;34m()\u001b[0m\n",
      "\u001b[1;32mc:\\users\\mcastro\\appdata\\local\\programs\\python\\python39\\lib\\site-packages\\numpy\\core\\_methods.py\u001b[0m in \u001b[0;36m_sum\u001b[1;34m(a, axis, dtype, out, keepdims, initial, where)\u001b[0m\n\u001b[0;32m     44\u001b[0m     \u001b[1;32mreturn\u001b[0m \u001b[0mumr_minimum\u001b[0m\u001b[1;33m(\u001b[0m\u001b[0ma\u001b[0m\u001b[1;33m,\u001b[0m \u001b[0maxis\u001b[0m\u001b[1;33m,\u001b[0m \u001b[1;32mNone\u001b[0m\u001b[1;33m,\u001b[0m \u001b[0mout\u001b[0m\u001b[1;33m,\u001b[0m \u001b[0mkeepdims\u001b[0m\u001b[1;33m,\u001b[0m \u001b[0minitial\u001b[0m\u001b[1;33m,\u001b[0m \u001b[0mwhere\u001b[0m\u001b[1;33m)\u001b[0m\u001b[1;33m\u001b[0m\u001b[1;33m\u001b[0m\u001b[0m\n\u001b[0;32m     45\u001b[0m \u001b[1;33m\u001b[0m\u001b[0m\n\u001b[1;32m---> 46\u001b[1;33m def _sum(a, axis=None, dtype=None, out=None, keepdims=False,\n\u001b[0m\u001b[0;32m     47\u001b[0m          initial=_NoValue, where=True):\n\u001b[0;32m     48\u001b[0m     \u001b[1;32mreturn\u001b[0m \u001b[0mumr_sum\u001b[0m\u001b[1;33m(\u001b[0m\u001b[0ma\u001b[0m\u001b[1;33m,\u001b[0m \u001b[0maxis\u001b[0m\u001b[1;33m,\u001b[0m \u001b[0mdtype\u001b[0m\u001b[1;33m,\u001b[0m \u001b[0mout\u001b[0m\u001b[1;33m,\u001b[0m \u001b[0mkeepdims\u001b[0m\u001b[1;33m,\u001b[0m \u001b[0minitial\u001b[0m\u001b[1;33m,\u001b[0m \u001b[0mwhere\u001b[0m\u001b[1;33m)\u001b[0m\u001b[1;33m\u001b[0m\u001b[1;33m\u001b[0m\u001b[0m\n",
      "\u001b[1;31mKeyboardInterrupt\u001b[0m: "
     ]
    }
   ],
   "source": [
    "report = ProfileReport(df, title=\"Detección de phishing\", explorative=True)\n",
    "report.to_file(\"reporte.html\")"
   ]
  },
  {
   "cell_type": "markdown",
   "metadata": {},
   "source": [
    "En el profilling se puede ver a detalle la correlación de las variables con status en el dataset."
   ]
  },
  {
   "cell_type": "markdown",
   "metadata": {},
   "source": [
    "## Selección de Características "
   ]
  },
  {
   "cell_type": "code",
   "execution_count": null,
   "metadata": {},
   "outputs": [],
   "source": [
    "df_lean = df.drop(['nb_com'\n",
    ",'suspecious_tld'\n",
    ",'statistical_report'\n",
    ",'popup_window'\n",
    ",'nb_dslash'\n",
    ",'http_in_path'\n",
    ",'punycode'\n",
    ",'port'\n",
    ",'tld_in_path'\n",
    ",'tld_in_subdomain'\n",
    ",'abnormal_subdomain'\n",
    ",'path_extension'\n",
    ",'nb_external_redirection'\n",
    ",'brand_in_subdomain'\n",
    ",'brand_in_path'\n",
    ",'onmouseover'\n",
    ",'ratio_nullHyperlinks'\n",
    ",'ratio_intRedirection'\n",
    ",'ratio_intErrors'\n",
    ",'submit_email'\n",
    ",'sfh'\n",
    ",'iframe'\n",
    ",'right_clic'\n",
    ",'dns_record'], axis=1)"
   ]
  },
  {
   "cell_type": "code",
   "execution_count": 109,
   "metadata": {},
   "outputs": [
    {
     "name": "stdout",
     "output_type": "stream",
     "text": [
      "<class 'pandas.core.frame.DataFrame'>\n",
      "RangeIndex: 11430 entries, 0 to 11429\n",
      "Data columns (total 65 columns):\n",
      " #   Column                      Non-Null Count  Dtype  \n",
      "---  ------                      --------------  -----  \n",
      " 0   url                         11430 non-null  object \n",
      " 1   ip                          11430 non-null  int64  \n",
      " 2   nb_www                      11430 non-null  int64  \n",
      " 3   nb_subdomains               11430 non-null  int64  \n",
      " 4   prefix_suffix               11430 non-null  int64  \n",
      " 5   random_domain               11430 non-null  int64  \n",
      " 6   shortening_service          11430 non-null  int64  \n",
      " 7   nb_redirection              11430 non-null  int64  \n",
      " 8   length_words_raw            11430 non-null  int64  \n",
      " 9   char_repeat                 11430 non-null  int64  \n",
      " 10  shortest_words_raw          11430 non-null  int64  \n",
      " 11  shortest_word_host          11430 non-null  int64  \n",
      " 12  shortest_word_path          11430 non-null  int64  \n",
      " 13  longest_words_raw           11430 non-null  int64  \n",
      " 14  longest_word_host           11430 non-null  int64  \n",
      " 15  longest_word_path           11430 non-null  int64  \n",
      " 16  avg_words_raw               11430 non-null  float64\n",
      " 17  avg_word_host               11430 non-null  float64\n",
      " 18  avg_word_path               11430 non-null  float64\n",
      " 19  phish_hints                 11430 non-null  int64  \n",
      " 20  domain_in_brand             11430 non-null  int64  \n",
      " 21  nb_hyperlinks               11430 non-null  int64  \n",
      " 22  ratio_intHyperlinks         11430 non-null  float64\n",
      " 23  ratio_extHyperlinks         11430 non-null  float64\n",
      " 24  nb_extCSS                   11430 non-null  int64  \n",
      " 25  ratio_extRedirection        11430 non-null  float64\n",
      " 26  ratio_extErrors             11430 non-null  float64\n",
      " 27  login_form                  11430 non-null  int64  \n",
      " 28  external_favicon            11430 non-null  int64  \n",
      " 29  links_in_tags               11430 non-null  float64\n",
      " 30  ratio_intMedia              11430 non-null  float64\n",
      " 31  ratio_extMedia              11430 non-null  float64\n",
      " 32  safe_anchor                 11430 non-null  float64\n",
      " 33  empty_title                 11430 non-null  int64  \n",
      " 34  domain_in_title             11430 non-null  int64  \n",
      " 35  domain_with_copyright       11430 non-null  int64  \n",
      " 36  whois_registered_domain     11430 non-null  int64  \n",
      " 37  domain_registration_length  11430 non-null  int64  \n",
      " 38  domain_age                  11430 non-null  int64  \n",
      " 39  web_traffic                 11430 non-null  int64  \n",
      " 40  google_index                11430 non-null  int64  \n",
      " 41  page_rank                   11430 non-null  int64  \n",
      " 42  status                      11430 non-null  int64  \n",
      " 43  f1                          11430 non-null  int64  \n",
      " 44  f2                          11430 non-null  int64  \n",
      " 45  f4                          11430 non-null  int64  \n",
      " 46  f5                          11430 non-null  int64  \n",
      " 47  f6                          11430 non-null  int64  \n",
      " 48  f7                          11430 non-null  int64  \n",
      " 49  f8                          11430 non-null  int64  \n",
      " 50  f9                          11430 non-null  int64  \n",
      " 51  f10                         11430 non-null  int64  \n",
      " 52  f11                         11430 non-null  int64  \n",
      " 53  f12                         11430 non-null  int64  \n",
      " 54  f13                         11430 non-null  int64  \n",
      " 55  f14                         11430 non-null  int64  \n",
      " 56  f15                         11430 non-null  int64  \n",
      " 57  f16                         11430 non-null  int64  \n",
      " 58  f17                         11430 non-null  int64  \n",
      " 59  f18                         11430 non-null  int64  \n",
      " 60  f19                         11430 non-null  int64  \n",
      " 61  f20                         11430 non-null  int64  \n",
      " 62  f25                         11430 non-null  int64  \n",
      " 63  f26                         11430 non-null  int64  \n",
      " 64  f27                         11430 non-null  int64  \n",
      "dtypes: float64(11), int64(53), object(1)\n",
      "memory usage: 5.7+ MB\n"
     ]
    }
   ],
   "source": [
    "df_lean.info()"
   ]
  },
  {
   "cell_type": "markdown",
   "metadata": {},
   "source": [
    "## Implementacion del Modelo"
   ]
  },
  {
   "cell_type": "code",
   "execution_count": 110,
   "metadata": {},
   "outputs": [],
   "source": [
    "import sklearn\n",
    "from sklearn import metrics, model_selection, tree"
   ]
  },
  {
   "cell_type": "code",
   "execution_count": 123,
   "metadata": {},
   "outputs": [],
   "source": [
    "new_df = df_lean[['f1', 'f2', 'f4', 'f25', 'f26', 'f27', 'status']].copy()"
   ]
  },
  {
   "cell_type": "code",
   "execution_count": 124,
   "metadata": {},
   "outputs": [
    {
     "data": {
      "text/html": [
       "<div>\n",
       "<style scoped>\n",
       "    .dataframe tbody tr th:only-of-type {\n",
       "        vertical-align: middle;\n",
       "    }\n",
       "\n",
       "    .dataframe tbody tr th {\n",
       "        vertical-align: top;\n",
       "    }\n",
       "\n",
       "    .dataframe thead th {\n",
       "        text-align: right;\n",
       "    }\n",
       "</style>\n",
       "<table border=\"1\" class=\"dataframe\">\n",
       "  <thead>\n",
       "    <tr style=\"text-align: right;\">\n",
       "      <th></th>\n",
       "      <th>f1</th>\n",
       "      <th>f2</th>\n",
       "      <th>f4</th>\n",
       "      <th>f25</th>\n",
       "      <th>f26</th>\n",
       "      <th>f27</th>\n",
       "      <th>status</th>\n",
       "    </tr>\n",
       "  </thead>\n",
       "  <tbody>\n",
       "    <tr>\n",
       "      <th>0</th>\n",
       "      <td>37</td>\n",
       "      <td>19</td>\n",
       "      <td>3</td>\n",
       "      <td>0</td>\n",
       "      <td>0</td>\n",
       "      <td>0</td>\n",
       "      <td>0</td>\n",
       "    </tr>\n",
       "    <tr>\n",
       "      <th>1</th>\n",
       "      <td>77</td>\n",
       "      <td>23</td>\n",
       "      <td>1</td>\n",
       "      <td>0</td>\n",
       "      <td>17</td>\n",
       "      <td>0</td>\n",
       "      <td>1</td>\n",
       "    </tr>\n",
       "    <tr>\n",
       "      <th>2</th>\n",
       "      <td>126</td>\n",
       "      <td>50</td>\n",
       "      <td>4</td>\n",
       "      <td>1</td>\n",
       "      <td>19</td>\n",
       "      <td>0</td>\n",
       "      <td>1</td>\n",
       "    </tr>\n",
       "    <tr>\n",
       "      <th>3</th>\n",
       "      <td>18</td>\n",
       "      <td>11</td>\n",
       "      <td>2</td>\n",
       "      <td>0</td>\n",
       "      <td>0</td>\n",
       "      <td>0</td>\n",
       "      <td>0</td>\n",
       "    </tr>\n",
       "    <tr>\n",
       "      <th>4</th>\n",
       "      <td>55</td>\n",
       "      <td>15</td>\n",
       "      <td>2</td>\n",
       "      <td>0</td>\n",
       "      <td>0</td>\n",
       "      <td>0</td>\n",
       "      <td>0</td>\n",
       "    </tr>\n",
       "    <tr>\n",
       "      <th>...</th>\n",
       "      <td>...</td>\n",
       "      <td>...</td>\n",
       "      <td>...</td>\n",
       "      <td>...</td>\n",
       "      <td>...</td>\n",
       "      <td>...</td>\n",
       "      <td>...</td>\n",
       "    </tr>\n",
       "    <tr>\n",
       "      <th>11424</th>\n",
       "      <td>62</td>\n",
       "      <td>15</td>\n",
       "      <td>2</td>\n",
       "      <td>0</td>\n",
       "      <td>0</td>\n",
       "      <td>0</td>\n",
       "      <td>0</td>\n",
       "    </tr>\n",
       "    <tr>\n",
       "      <th>11425</th>\n",
       "      <td>45</td>\n",
       "      <td>17</td>\n",
       "      <td>2</td>\n",
       "      <td>0</td>\n",
       "      <td>0</td>\n",
       "      <td>0</td>\n",
       "      <td>0</td>\n",
       "    </tr>\n",
       "    <tr>\n",
       "      <th>11426</th>\n",
       "      <td>84</td>\n",
       "      <td>18</td>\n",
       "      <td>5</td>\n",
       "      <td>0</td>\n",
       "      <td>2</td>\n",
       "      <td>0</td>\n",
       "      <td>1</td>\n",
       "    </tr>\n",
       "    <tr>\n",
       "      <th>11427</th>\n",
       "      <td>105</td>\n",
       "      <td>16</td>\n",
       "      <td>2</td>\n",
       "      <td>1</td>\n",
       "      <td>15</td>\n",
       "      <td>0</td>\n",
       "      <td>0</td>\n",
       "    </tr>\n",
       "    <tr>\n",
       "      <th>11429</th>\n",
       "      <td>477</td>\n",
       "      <td>14</td>\n",
       "      <td>24</td>\n",
       "      <td>0</td>\n",
       "      <td>41</td>\n",
       "      <td>11</td>\n",
       "      <td>1</td>\n",
       "    </tr>\n",
       "  </tbody>\n",
       "</table>\n",
       "<p>7484 rows × 7 columns</p>\n",
       "</div>"
      ],
      "text/plain": [
       "        f1  f2  f4  f25  f26  f27  status\n",
       "0       37  19   3    0    0    0       0\n",
       "1       77  23   1    0   17    0       1\n",
       "2      126  50   4    1   19    0       1\n",
       "3       18  11   2    0    0    0       0\n",
       "4       55  15   2    0    0    0       0\n",
       "...    ...  ..  ..  ...  ...  ...     ...\n",
       "11424   62  15   2    0    0    0       0\n",
       "11425   45  17   2    0    0    0       0\n",
       "11426   84  18   5    0    2    0       1\n",
       "11427  105  16   2    1   15    0       0\n",
       "11429  477  14  24    0   41   11       1\n",
       "\n",
       "[7484 rows x 7 columns]"
      ]
     },
     "execution_count": 124,
     "metadata": {},
     "output_type": "execute_result"
    }
   ],
   "source": [
    "new_df.drop_duplicates()"
   ]
  },
  {
   "cell_type": "code",
   "execution_count": 125,
   "metadata": {
    "scrolled": true
   },
   "outputs": [
    {
     "name": "stdout",
     "output_type": "stream",
     "text": [
      "Final features: Index(['f1', 'f2', 'f4', 'f25', 'f26', 'f27'], dtype='object')\n"
     ]
    }
   ],
   "source": [
    "target = new_df['status']\n",
    "feature_matrix = new_df.drop(['status'], axis=1)\n",
    "\n",
    "print('Final features:', feature_matrix.columns)"
   ]
  },
  {
   "cell_type": "code",
   "execution_count": 126,
   "metadata": {
    "scrolled": true
   },
   "outputs": [
    {
     "data": {
      "text/html": [
       "<div>\n",
       "<style scoped>\n",
       "    .dataframe tbody tr th:only-of-type {\n",
       "        vertical-align: middle;\n",
       "    }\n",
       "\n",
       "    .dataframe tbody tr th {\n",
       "        vertical-align: top;\n",
       "    }\n",
       "\n",
       "    .dataframe thead th {\n",
       "        text-align: right;\n",
       "    }\n",
       "</style>\n",
       "<table border=\"1\" class=\"dataframe\">\n",
       "  <thead>\n",
       "    <tr style=\"text-align: right;\">\n",
       "      <th></th>\n",
       "      <th>f1</th>\n",
       "      <th>f2</th>\n",
       "      <th>f4</th>\n",
       "      <th>f25</th>\n",
       "      <th>f26</th>\n",
       "      <th>f27</th>\n",
       "    </tr>\n",
       "  </thead>\n",
       "  <tbody>\n",
       "    <tr>\n",
       "      <th>0</th>\n",
       "      <td>37</td>\n",
       "      <td>19</td>\n",
       "      <td>3</td>\n",
       "      <td>0</td>\n",
       "      <td>0</td>\n",
       "      <td>0</td>\n",
       "    </tr>\n",
       "    <tr>\n",
       "      <th>1</th>\n",
       "      <td>77</td>\n",
       "      <td>23</td>\n",
       "      <td>1</td>\n",
       "      <td>0</td>\n",
       "      <td>17</td>\n",
       "      <td>0</td>\n",
       "    </tr>\n",
       "    <tr>\n",
       "      <th>2</th>\n",
       "      <td>126</td>\n",
       "      <td>50</td>\n",
       "      <td>4</td>\n",
       "      <td>1</td>\n",
       "      <td>19</td>\n",
       "      <td>0</td>\n",
       "    </tr>\n",
       "    <tr>\n",
       "      <th>3</th>\n",
       "      <td>18</td>\n",
       "      <td>11</td>\n",
       "      <td>2</td>\n",
       "      <td>0</td>\n",
       "      <td>0</td>\n",
       "      <td>0</td>\n",
       "    </tr>\n",
       "    <tr>\n",
       "      <th>4</th>\n",
       "      <td>55</td>\n",
       "      <td>15</td>\n",
       "      <td>2</td>\n",
       "      <td>0</td>\n",
       "      <td>0</td>\n",
       "      <td>0</td>\n",
       "    </tr>\n",
       "  </tbody>\n",
       "</table>\n",
       "</div>"
      ],
      "text/plain": [
       "    f1  f2  f4  f25  f26  f27\n",
       "0   37  19   3    0    0    0\n",
       "1   77  23   1    0   17    0\n",
       "2  126  50   4    1   19    0\n",
       "3   18  11   2    0    0    0\n",
       "4   55  15   2    0    0    0"
      ]
     },
     "execution_count": 126,
     "metadata": {},
     "output_type": "execute_result"
    }
   ],
   "source": [
    "feature_matrix.head()"
   ]
  },
  {
   "cell_type": "code",
   "execution_count": 130,
   "metadata": {},
   "outputs": [],
   "source": [
    "feature_matrix_train, feature_matrix_test, target_train, target_test = model_selection.train_test_split(feature_matrix, target, test_size=0.25, random_state=31)"
   ]
  },
  {
   "cell_type": "code",
   "execution_count": 131,
   "metadata": {},
   "outputs": [],
   "source": [
    "target.to_csv(\"target_phishing.csv\")\n",
    "feature_matrix.to_csv(\"feature_matrix_phishing.csv\")"
   ]
  },
  {
   "cell_type": "code",
   "execution_count": 142,
   "metadata": {},
   "outputs": [],
   "source": [
    "#Denificion de porcentajes por cada conjunto\n",
    "training_ratio = 0.55\n",
    "validation_ratio = 0.15\n",
    "test_ratio = 0.30"
   ]
  },
  {
   "cell_type": "code",
   "execution_count": 143,
   "metadata": {},
   "outputs": [],
   "source": [
    "x_train, x_temp, y_train, y_temp = model_selection.train_test_split(feature_matrix, target, test_size = 1 - training_ratio)\n",
    "x_val, x_test, y_val, y_test = model_selection.train_test_split(x_temp, y_temp, test_size = test_ratio/(test_ratio + validation_ratio)) \n",
    "\n",
    "#Creando archivos de features\n",
    "x_train.to_csv('x_training.csv')\n",
    "x_val.to_csv('x_validation.csv')\n",
    "x_test.to_csv('x_test.csv')\n",
    "\n",
    "#Creacndo dataset de target\n",
    "y_train.to_csv('y_training.csv')\n",
    "y_val.to_csv('y_validation.csv')\n",
    "y_test.to_csv('y_test.csv')"
   ]
  },
  {
   "cell_type": "code",
   "execution_count": 144,
   "metadata": {},
   "outputs": [],
   "source": [
    "#Implementacion del modelo \n",
    "#Extraida y modificadfa de : https://www.cienciadedatos.net/documentos/py19-pca-python.html\n",
    "def manual_grid_search(x_train, y_train, x_val, y_val, depths, sample_splits):\n",
    "    accuracy_scores = [] \n",
    "\n",
    "    for depth in depths:\n",
    "        optimal_sample_split = 0\n",
    "        sample_accuracy = 0\n",
    "\n",
    "        for sample_split in sample_splits:\n",
    "            tree_model = tree.DecisionTreeClassifier(\n",
    "            max_depth = depth,\n",
    "            min_samples_split = sample_split)\n",
    "\n",
    "            tree_model.fit(x_train, y_train)\n",
    "\n",
    "            y_pred = tree_model.predict(x_val)\n",
    "\n",
    "            accuracy = metrics.accuracy_score(y_val, y_pred)\n",
    "\n",
    "            if (accuracy > sample_accuracy): \n",
    "                sample_accuracy = accuracy \n",
    "                optimal_sample_split = sample_split\n",
    "\n",
    "        accuracy_scores.append([depth, optimal_sample_split, sample_accuracy])\n",
    "\n",
    "    return accuracy_scores \n"
   ]
  },
  {
   "cell_type": "code",
   "execution_count": 161,
   "metadata": {},
   "outputs": [],
   "source": [
    "#Funcion para graficar \n",
    "#Extraida y modificadfa de : https://www.cienciadedatos.net/documentos/py19-pca-python.html\n",
    "\n",
    "def graph_scores(accuracy_scores):\n",
    "    depths = []\n",
    "    scores = []\n",
    "    \n",
    "    for i in accuracy_scores:\n",
    "        depths.append(i[0])\n",
    "        scores.append(round(i[2], 3))\n",
    "\n",
    "    fig, ax = plt.subplots(1, 1, figsize = (15, 5)) \n",
    "    ax.plot(depths, scores, '-o', label = 'accuracy')\n",
    "    \n",
    "    ylim = plt.ylim()\n",
    "    \n",
    "    ax.set_xlabel('Deept del arbol', fontsize = 14)\n",
    "    ax.set_ylabel('Presicion', fontsize = 14)\n",
    "    \n",
    "    ax.set_ylim(ylim)\n",
    "    ax.set_xticks(depths)\n",
    "    plt.grid()\n",
    "    \n",
    "    for i in range(len(scores)):\n",
    "        ax.annotate(str(scores[i]), xy=(depths[i], scores[i]), ha='center', va='bottom')\n"
   ]
  },
  {
   "cell_type": "code",
   "execution_count": 162,
   "metadata": {},
   "outputs": [],
   "source": [
    "%matplotlib inline"
   ]
  },
  {
   "cell_type": "code",
   "execution_count": 163,
   "metadata": {},
   "outputs": [
    {
     "data": {
      "image/png": "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\n",
      "text/plain": [
       "<Figure size 1080x360 with 1 Axes>"
      ]
     },
     "metadata": {
      "needs_background": "light"
     },
     "output_type": "display_data"
    }
   ],
   "source": [
    "accuracy_scores = manual_grid_search(x_train, y_train, x_val, y_val, range(1, 21), range(10, 100, 10))\n",
    "graph_scores(accuracy_scores)"
   ]
  },
  {
   "cell_type": "code",
   "execution_count": 149,
   "metadata": {},
   "outputs": [],
   "source": [
    "clf = tree.DecisionTreeClassifier()\n",
    "clf = clf.fit(feature_matrix_train, target_train)"
   ]
  },
  {
   "cell_type": "code",
   "execution_count": 150,
   "metadata": {},
   "outputs": [
    {
     "name": "stdout",
     "output_type": "stream",
     "text": [
      "f1     8572\n",
      "f2     8572\n",
      "f4     8572\n",
      "f25    8572\n",
      "f26    8572\n",
      "f27    8572\n",
      "dtype: int64\n"
     ]
    }
   ],
   "source": [
    "print(feature_matrix_train.count())"
   ]
  },
  {
   "cell_type": "code",
   "execution_count": 151,
   "metadata": {},
   "outputs": [
    {
     "name": "stdout",
     "output_type": "stream",
     "text": [
      "f1     2858\n",
      "f2     2858\n",
      "f4     2858\n",
      "f25    2858\n",
      "f26    2858\n",
      "f27    2858\n",
      "dtype: int64\n"
     ]
    }
   ],
   "source": [
    "print(feature_matrix_test.count())"
   ]
  },
  {
   "cell_type": "code",
   "execution_count": 159,
   "metadata": {},
   "outputs": [
    {
     "name": "stdout",
     "output_type": "stream",
     "text": [
      "ACCURACY \n",
      " 0.7424772568229531\n"
     ]
    }
   ],
   "source": [
    "target_pred = clf.predict(feature_matrix_test)\n",
    "print('ACCURACY \\n',metrics.accuracy_score(target_test, target_pred))"
   ]
  },
  {
   "cell_type": "code",
   "execution_count": 160,
   "metadata": {},
   "outputs": [
    {
     "name": "stdout",
     "output_type": "stream",
     "text": [
      "MATRIX \n",
      " [[1106  306]\n",
      " [ 430 1016]]\n"
     ]
    }
   ],
   "source": [
    "#Matrix de confusion\n",
    "print('MATRIX \\n',metrics.confusion_matrix(target_test, target_pred))"
   ]
  },
  {
   "cell_type": "code",
   "execution_count": 157,
   "metadata": {},
   "outputs": [
    {
     "name": "stdout",
     "output_type": "stream",
     "text": [
      "CLASSIFICATION REPORT \n",
      "               precision    recall  f1-score   support\n",
      "\n",
      "       legit       0.72      0.78      0.75      1412\n",
      "         dga       0.77      0.70      0.73      1446\n",
      "\n",
      "    accuracy                           0.74      2858\n",
      "   macro avg       0.74      0.74      0.74      2858\n",
      "weighted avg       0.74      0.74      0.74      2858\n",
      "\n"
     ]
    }
   ],
   "source": [
    "#Classification Report\n",
    "print('CLASSIFICATION REPORT \\n', metrics.classification_report(target_test, target_pred, target_names=['legit', 'dga']))"
   ]
  },
  {
   "cell_type": "markdown",
   "metadata": {},
   "source": [
    "## Preguntas\n",
    "\n",
    "### 1. ¿Cual es el impacto de clasificar un sitio legitimo com Pishing?\n",
    "\n",
    "El impacto estaria que los sitios que clasificaron incorrectamente pueden perder muchas de las visitas usuales o la cantidad de trafico al que estaban acosutmbrados. Tambien puede tomarse como difamasion y hacer que las personas duden de su confiabilidad.\n",
    "\n",
    "### 2. ¿Cual es el impacto de clasificar un sitio Pishing como legítimo?\n",
    "\n",
    "El impacto estaria que los sitios obtendrian potencialmente mas visitas y pueda que las personas \"se confien\" en como el sitio es legitimo, y entren de forma constante, exponiendo toda su informacion.\n",
    "\n",
    "### 3. En base a las respuestas anteriores, ¿Qué métrica elegiría para comparar modelos similares de clasificación de pishing?\n",
    "\n",
    "En el caso de Pishing se podria utilizar el metodo re recall ya que se deben comparar que tan bien o mal se clasifico el sitio.\n",
    "\n",
    "### 4. ¿Es necesaria la intervención de una persona humana en la decisión final de clasificación?\n",
    "\n",
    "En este caso no es necesario, ya que este puede causar un error o que factores externos interfieran en su criterio para una decision objetiva. "
   ]
  },
  {
   "cell_type": "code",
   "execution_count": null,
>>>>>>> Stashed changes
   "metadata": {},
   "source": [
    "En el profiling era evidentes que estas columnas se repetian y eran irrelevantes, por lo cual las borramos como se puede ver."
   ]
  }
 ],
 "metadata": {
  "kernelspec": {
   "display_name": "Python 3",
   "language": "python",
   "name": "python3"
  },
  "language_info": {
   "codemirror_mode": {
    "name": "ipython",
    "version": 3
   },
   "file_extension": ".py",
   "mimetype": "text/x-python",
   "name": "python",
   "nbconvert_exporter": "python",
   "pygments_lexer": "ipython3",
   "version": "3.7.3"
  }
 },
 "nbformat": 4,
 "nbformat_minor": 4
}
